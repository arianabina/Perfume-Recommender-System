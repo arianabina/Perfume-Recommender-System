{
 "cells": [
  {
   "cell_type": "markdown",
   "id": "9d6f6152-42b4-4b2f-9768-794fd6cd4004",
   "metadata": {},
   "source": [
    "## Pre-processing & Modeling"
   ]
  },
  {
   "cell_type": "code",
   "execution_count": 3,
   "id": "9f2a6601-cfcb-489d-b178-f9d14f6905a5",
   "metadata": {},
   "outputs": [],
   "source": [
    "import pandas as pd\n",
    "import streamlit as st\n",
    "import pandas as pd\n",
    "from sklearn.feature_extraction.text import TfidfVectorizer\n",
    "from sklearn.metrics.pairwise import cosine_similarity\n"
   ]
  },
  {
   "cell_type": "code",
   "execution_count": 4,
   "id": "ffc0c522-4497-48a1-87c1-22ceae72e9f8",
   "metadata": {},
   "outputs": [],
   "source": [
    "# Load the data\n",
    "df = pd.read_csv('clean_perfume_data.csv')"
   ]
  },
  {
   "cell_type": "code",
   "execution_count": 11,
   "id": "45571b19-e6af-4730-9710-513189bcf7d5",
   "metadata": {},
   "outputs": [],
   "source": [
    "# Vectorize the notes column\n",
    "vectorizer = TfidfVectorizer()\n",
    "tfidf_matrix = vectorizer.fit_transform(df['notes'].values.astype('U'))"
   ]
  },
  {
   "cell_type": "code",
   "execution_count": 12,
   "id": "e3a09019-4b9c-41af-918b-2b5b0bbe2e6a",
   "metadata": {},
   "outputs": [],
   "source": [
    "# Compute the cosine similarity matrix\n",
    "cosine_sim = cosine_similarity(tfidf_matrix, tfidf_matrix)"
   ]
  },
  {
   "cell_type": "code",
   "execution_count": 13,
   "id": "d74819c0-9974-4f38-878e-5c6ec51ea5e1",
   "metadata": {},
   "outputs": [],
   "source": [
    "# Function to recommend perfumes based on user input\n",
    "def recommend_perfumes(perfume_name, cosine_sim=cosine_sim, df=df):\n",
    "    idx = df[df['perfume'] == perfume_name].index[0]\n",
    "    sim_scores = list(enumerate(cosine_sim[idx]))\n",
    "    sim_scores = sorted(sim_scores, key=lambda x: x[1], reverse=True)\n",
    "    sim_scores = sim_scores[1:11]  # Top 10 similar perfumes\n",
    "    perfume_indices = [i[0] for i in sim_scores]\n",
    "    return df['perfume'].iloc[perfume_indices]"
   ]
  },
  {
   "cell_type": "code",
   "execution_count": 14,
   "id": "6b830861-9744-4e3c-9329-942a34e794e1",
   "metadata": {},
   "outputs": [],
   "source": [
    "# Streamlit app\n",
    "def main():\n",
    "    st.title('Fragrance Recommender System')\n",
    "    st.sidebar.title('User Input')\n",
    "\n",
    "    # User input\n",
    "    perfume_name = st.sidebar.text_input('Enter a perfume name', 'Summer')  # Default value 'Summer'\n",
    "    if st.sidebar.button('Get Recommendations'):\n",
    "        recommendations = recommend_perfumes(perfume_name)\n",
    "        st.subheader('Recommended Perfumes')\n",
    "        st.write(recommendations)\n",
    "\n",
    "if __name__ == '__main__':\n",
    "    main()"
   ]
  },
  {
   "cell_type": "code",
   "execution_count": null,
   "id": "984d79de-6621-47ea-89f8-27af02cedb5c",
   "metadata": {},
   "outputs": [],
   "source": []
  }
 ],
 "metadata": {
  "kernelspec": {
   "display_name": "Python 3 (ipykernel)",
   "language": "python",
   "name": "python3"
  },
  "language_info": {
   "codemirror_mode": {
    "name": "ipython",
    "version": 3
   },
   "file_extension": ".py",
   "mimetype": "text/x-python",
   "name": "python",
   "nbconvert_exporter": "python",
   "pygments_lexer": "ipython3",
   "version": "3.11.7"
  }
 },
 "nbformat": 4,
 "nbformat_minor": 5
}
