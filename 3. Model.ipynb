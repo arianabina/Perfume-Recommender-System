{
 "cells": [
  {
   "cell_type": "markdown",
   "id": "9d6f6152-42b4-4b2f-9768-794fd6cd4004",
   "metadata": {},
   "source": [
    "## Pre-processing & Modeling"
   ]
  },
  {
   "cell_type": "code",
   "execution_count": 2,
   "id": "f16a8f84-4607-4fc7-9529-be0c47031bb8",
   "metadata": {},
   "outputs": [
    {
     "name": "stdout",
     "output_type": "stream",
     "text": [
      "Requirement already satisfied: scikit-learn in /opt/anaconda3/lib/python3.11/site-packages (1.4.2)\n",
      "Requirement already satisfied: numpy>=1.19.5 in /opt/anaconda3/lib/python3.11/site-packages (from scikit-learn) (1.26.4)\n",
      "Requirement already satisfied: scipy>=1.6.0 in /opt/anaconda3/lib/python3.11/site-packages (from scikit-learn) (1.11.4)\n",
      "Requirement already satisfied: joblib>=1.2.0 in /opt/anaconda3/lib/python3.11/site-packages (from scikit-learn) (1.2.0)\n",
      "Requirement already satisfied: threadpoolctl>=2.0.0 in /opt/anaconda3/lib/python3.11/site-packages (from scikit-learn) (2.2.0)\n"
     ]
    }
   ],
   "source": [
    "import pandas as pd\n",
    "import streamlit as st\n",
    "from sklearn.feature_extraction.text import TfidfVectorizer\n",
    "from sklearn.metrics.pairwise import cosine_similarity\n",
    "!pip install scikit-learn"
   ]
  },
  {
   "cell_type": "code",
   "execution_count": 51,
   "id": "e93f822b-a338-4e3a-a096-b9c30d2b61cb",
   "metadata": {},
   "outputs": [],
   "source": [
    "# Load the data\n",
    "df = pd.read_csv('clean_perfume_data.csv')"
   ]
  },
  {
   "cell_type": "code",
   "execution_count": 5,
   "id": "45571b19-e6af-4730-9710-513189bcf7d5",
   "metadata": {},
   "outputs": [],
   "source": [
    "# Vectorize the notes column\n",
    "vectorizer = TfidfVectorizer()\n",
    "tfidf_matrix = vectorizer.fit_transform(df['notes'].values.astype('U'))"
   ]
  },
  {
   "cell_type": "code",
   "execution_count": 6,
   "id": "e3a09019-4b9c-41af-918b-2b5b0bbe2e6a",
   "metadata": {},
   "outputs": [],
   "source": [
    "# Compute the cosine similarity matrix\n",
    "cosine_sim = cosine_similarity(tfidf_matrix, tfidf_matrix)"
   ]
  },
  {
   "cell_type": "code",
   "execution_count": 67,
   "id": "d74819c0-9974-4f38-878e-5c6ec51ea5e1",
   "metadata": {},
   "outputs": [],
   "source": [
    "# Function to recommend perfumes based on user input\n",
    "def recommend_perfumes(perfume_name, cosine_sim=cosine_sim, df=df):\n",
    "    # Convert user input to lowercase\n",
    "    perfume_name = perfume_name.lower()\n",
    "    \n",
    "    # Find indices of matching perfumes\n",
    "    matching_indices = df[df['perfume'].str.lower() == perfume_name].index\n",
    "    if len(matching_indices) == 0:\n",
    "        return \"Perfume not found in the dataset. Please enter another perfume name.\"\n",
    "    else:\n",
    "        idx = matching_indices[0]\n",
    "        sim_scores = list(enumerate(cosine_sim[idx]))\n",
    "        sim_scores = sorted(sim_scores, key=lambda x: x[1], reverse=True)\n",
    "        \n",
    "        # Exclude user input perfume from recommended list\n",
    "        recommended_indices = [i[0] for i in sim_scores if i[0] != idx]\n",
    "        recommended_indices = recommended_indices[:10]  # Top 10 similar perfumes\n",
    "        \n",
    "        recommendations = df.iloc[recommended_indices][['brand', 'perfume', 'notes']]\n",
    "        return recommendations"
   ]
  },
  {
   "cell_type": "code",
   "execution_count": 69,
   "id": "b464310c-bf02-42e9-948a-04d40ee95cc9",
   "metadata": {
    "scrolled": true
   },
   "outputs": [
    {
     "name": "stdout",
     "output_type": "stream",
     "text": [
      "Recommended Perfumes:\n",
      "                        brand                             perfume  \\\n",
      "31914                  Eudora                            S Priv e   \n",
      "11693      David LISS Parfums                  Bergamote Chocolat   \n",
      "22374                    Pupa                       Puposhka Gold   \n",
      "25063           The Body Shop                             Amorito   \n",
      "14976      Le Bel Aujourd hui                       Brun d Epices   \n",
      "3307        Demeter Fragrance                      Dark Chocolate   \n",
      "24295         Laurelle London     Les Couleurs No 4 Hot Chocolate   \n",
      "7869   Sarah Horowitz Parfums                      Perfect Sunset   \n",
      "24291         Laurelle London  Les Couleurs No 2 Chocolate Orange   \n",
      "21727                 Missoni     Missoni Colori Missoni Gianduia   \n",
      "\n",
      "                                                   notes  \n",
      "31914  mandarin orange, floral notes, dark chocolate,...  \n",
      "11693                           bergamot, dark chocolate  \n",
      "22374           , amber, musk, vanilla, dark chocolate,   \n",
      "25063  jasmine, dark chocolate, vanilla, dark chocola...  \n",
      "14976                  dark chocolate, orange, patchouli  \n",
      "3307                                      dark chocolate  \n",
      "24295                                     dark chocolate  \n",
      "7869   jasmine, patchouli, vanilla, musk, sandalwood,...  \n",
      "24291                             orange, dark chocolate  \n",
      "21727                              dark chocolate, amber  \n"
     ]
    }
   ],
   "source": [
    "# simulate Streamlit app behavior\n",
    "def main(perfume_name):\n",
    "    recommendations = recommend_perfumes(perfume_name, cosine_sim, df)\n",
    "    print(\"Recommended Perfumes:\")\n",
    "    print(recommendations)\n",
    "\n",
    "# Simulate Streamlit user input and button click\n",
    "perfume_name = 'hareem al sultan'  \n",
    "main(perfume_name)"
   ]
  },
  {
   "cell_type": "code",
   "execution_count": null,
   "id": "a78587a9-1752-4456-aa47-19a052901051",
   "metadata": {},
   "outputs": [],
   "source": [
    "# Streamlit app\n",
    "def main():\n",
    "    st.title('Fragrance Recommender System')\n",
    "    st.sidebar.title('User Input')\n",
    "\n",
    "    # User input\n",
    "    perfume_name = st.sidebar.text_input('Enter a perfume name')  \n",
    "    if st.sidebar.button('Get Recommendations'):\n",
    "        recommendations = recommend_perfumes(perfume_name)\n",
    "        st.subheader('Recommended Perfumes')\n",
    "        st.write(recommendations)\n",
    "\n",
    "if __name__ == '__main__':\n",
    "    main()"
   ]
  }
 ],
 "metadata": {
  "kernelspec": {
   "display_name": "Python 3 (ipykernel)",
   "language": "python",
   "name": "python3"
  },
  "language_info": {
   "codemirror_mode": {
    "name": "ipython",
    "version": 3
   },
   "file_extension": ".py",
   "mimetype": "text/x-python",
   "name": "python",
   "nbconvert_exporter": "python",
   "pygments_lexer": "ipython3",
   "version": "3.11.7"
  }
 },
 "nbformat": 4,
 "nbformat_minor": 5
}
