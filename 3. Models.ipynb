{
 "cells": [
  {
   "cell_type": "markdown",
   "id": "c58edc54-17b1-4866-971f-4d6b368328a1",
   "metadata": {},
   "source": [
    "# Recommendation Models"
   ]
  },
  {
   "cell_type": "markdown",
   "id": "604987b6-0a34-4929-81bc-d06fd17c28e7",
   "metadata": {},
   "source": [
    "### Imports"
   ]
  },
  {
   "cell_type": "code",
   "execution_count": 19,
   "id": "2092f5ba-420a-4f6d-bb9a-4c1dff42b431",
   "metadata": {},
   "outputs": [],
   "source": [
    "import pandas as pd\n",
    "import numpy as np\n",
    "import random\n",
    "from sklearn.metrics.pairwise import cosine_similarity\n",
    "from sklearn.feature_extraction.text import TfidfVectorizer\n",
    "from sklearn.metrics.pairwise import euclidean_distances\n",
    "from sklearn.metrics import accuracy_score, precision_score, recall_score, f1_score"
   ]
  },
  {
   "cell_type": "markdown",
   "id": "22f959ae-4266-4a92-bfa3-ed44006ed98c",
   "metadata": {},
   "source": [
    "### Loading in Data"
   ]
  },
  {
   "cell_type": "code",
   "execution_count": 40,
   "id": "929b0375-fbb8-4162-a8bf-f05c17da1a2b",
   "metadata": {},
   "outputs": [],
   "source": [
    "df = pd.read_csv('fivek_subset_data.csv')"
   ]
  },
  {
   "cell_type": "markdown",
   "id": "96c63b8f-5c7d-413d-aae8-f68fb914d0e2",
   "metadata": {},
   "source": [
    "### Baseline Model (based on random recommendations)"
   ]
  },
  {
   "cell_type": "code",
   "execution_count": 41,
   "id": "c0881ac7-4c68-44d3-a36d-cc9d2a2c5038",
   "metadata": {},
   "outputs": [],
   "source": [
    "# Function to generate random recommendations\n",
    "def random_recommender(df, num_recommendations=5):\n",
    "    # Shuffle the DataFrame randomly and select the first num_recommendations rows\n",
    "    random_recs = df.sample(n=num_recommendations, random_state=42)  \n",
    "    return random_recs"
   ]
  },
  {
   "cell_type": "markdown",
   "id": "fe600907-448d-489f-bebf-e8dabf9ad1c0",
   "metadata": {},
   "source": [
    "#### Since the baseline recommender system above is generating random recommendations, it doesn't make sense to evaluate it using traditional recommendation metrics like precision or recall. In this case, the most appropriate evaluation would involve qualitative assessment and comparison with the other methods I will employ, cosine similarity & Euclidian Distance."
   ]
  },
  {
   "cell_type": "markdown",
   "id": "1eb465be-3f55-4f5d-be86-ccf71bd10b5c",
   "metadata": {},
   "source": [
    "### Cosine Similarity Model"
   ]
  },
  {
   "cell_type": "code",
   "execution_count": 46,
   "id": "9037c83a-35d1-43f3-8c37-be6e9a92661a",
   "metadata": {},
   "outputs": [],
   "source": [
    "# Function to recommend based on cosine similarity\n",
    "\n",
    "def cosine_recommender(df, accord, num_recommendations=5):\n",
    "    filtered_df = df[df['main_accords'].str.contains(accord, case=False, na=False)]\n",
    "    if filtered_df.empty:\n",
    "        return pd.DataFrame()\n",
    "    vectorizer = TfidfVectorizer()\n",
    "    tfidf_matrix = vectorizer.fit_transform(filtered_df['main_accords'])\n",
    "    similarities = cosine_similarity(tfidf_matrix)\n",
    "    similar_indices = similarities.argsort(axis=1)[:, ::-1][:, 1:]\n",
    "    cosine_recs = pd.DataFrame(columns=filtered_df.columns)\n",
    "    for indices in similar_indices:\n",
    "        similar_perfumes = filtered_df.iloc[indices[:num_recommendations]]\n",
    "        cosine_recs = pd.concat([cosine_recs, similar_perfumes])\n",
    "    return cosine_recs"
   ]
  },
  {
   "cell_type": "markdown",
   "id": "7988a0d5-48ab-4c10-92d9-748de227f9c3",
   "metadata": {},
   "source": [
    "### Euclidian Distance Model"
   ]
  },
  {
   "cell_type": "code",
   "execution_count": 47,
   "id": "1dda2ace-648c-4ff2-a943-d9582c9e5377",
   "metadata": {},
   "outputs": [],
   "source": [
    "# Function to recommend based on euclidean distance\n",
    "\n",
    "def euclidean_recommender(df, accord, num_recommendations=5):\n",
    "    filtered_df = df[df['main_accords'].str.contains(accord, case=False, na=False)]\n",
    "    if filtered_df.empty:\n",
    "        return pd.DataFrame()\n",
    "    main_accords_list = filtered_df['main_accords'].str.split(', ')\n",
    "    main_accords_array = main_accords_list.apply(lambda x: [1 if accord in x else 0])\n",
    "    main_accords_matrix = np.vstack(main_accords_array)\n",
    "    distances = euclidean_distances(main_accords_matrix)\n",
    "    similar_indices = distances.argsort(axis=1)[:, :num_recommendations]\n",
    "    euclidean_recs = pd.DataFrame(columns=filtered_df.columns)  \n",
    "    for indices in similar_indices:\n",
    "        similar_perfumes = filtered_df.iloc[indices]\n",
    "        euclidean_recs = pd.concat([euclidean_recs, similar_perfumes])\n",
    "    return euclidean_recs"
   ]
  },
  {
   "cell_type": "markdown",
   "id": "9aaa3dbf-f7f2-4da9-9dc4-8106712322b1",
   "metadata": {},
   "source": [
    "### Model Comparison: Baseline vs. Euclidian vs. Cosine Similarity"
   ]
  },
  {
   "cell_type": "code",
   "execution_count": 48,
   "id": "debd4ed4-5a09-48a9-9b81-bfe61a46e96f",
   "metadata": {},
   "outputs": [
    {
     "name": "stdin",
     "output_type": "stream",
     "text": [
      "Enter your preferred fragrance accord:  wine\n"
     ]
    },
    {
     "name": "stdout",
     "output_type": "stream",
     "text": [
      "    Euclidean Recs      Cosine Recs                    Random Recs\n",
      "0         Une Rose    Malaga Cooler               Best Free Lander\n",
      "1    Malaga Cooler       Blood Kiss                        Trigger\n",
      "2       Blood Kiss  The Black Tower                    My Torrente\n",
      "3  The Black Tower      Leatherwood  Marc Jacobs Autumn Splash Ivy\n",
      "4      Leatherwood         Une Rose                          V Ete\n"
     ]
    }
   ],
   "source": [
    "# Function to compare the output of the baseline, euclidian, and cosine models\n",
    "\n",
    "def compare_recommendations(df):\n",
    "    # Prompt the user for their preferred fragrance accord\n",
    "    accord = input(\"Enter your preferred fragrance accord: \")\n",
    "\n",
    "    # Convert the input to lowercase for consistency\n",
    "    accord = accord.lower()\n",
    "\n",
    "    # Get recommendations based on Euclidean Distance\n",
    "    euclidean_recs = euclidean_recommender(df, accord).drop_duplicates().head(5)\n",
    "\n",
    "    # Get recommendations based on Cosine Similarity\n",
    "    cosine_recs = cosine_recommender(df, accord).drop_duplicates().head(5)\n",
    "\n",
    "    # Get random recommendations\n",
    "    random_recs = random_recommender(df, 5).drop_duplicates().head(5)\n",
    "\n",
    "    # Create a DataFrame for comparison\n",
    "    comparison_df = pd.DataFrame({\n",
    "        \"Euclidean Recs\": euclidean_recs[\"perfume\"].tolist(),\n",
    "        \"Cosine Recs\": cosine_recs[\"perfume\"].tolist(),\n",
    "        \"Random Recs\": random_recs[\"perfume\"].tolist()\n",
    "    })\n",
    "\n",
    "    return comparison_df\n",
    "\n",
    "# Load your DataFrame here\n",
    "df = pd.read_csv('fivek_subset_data.csv')\n",
    "\n",
    "# Call the comparison function\n",
    "comparison_result = compare_recommendations(df)\n",
    "print(comparison_result)"
   ]
  },
  {
   "cell_type": "markdown",
   "id": "2da59938-35a2-468b-bd18-5d3eba41af44",
   "metadata": {},
   "source": [
    "### Accords Within Recommended Perfumes"
   ]
  },
  {
   "cell_type": "code",
   "execution_count": 45,
   "id": "4ae7232b-71ec-4794-8a6f-13ea5c6f153e",
   "metadata": {},
   "outputs": [
    {
     "name": "stdout",
     "output_type": "stream",
     "text": [
      "Une Rose: rose, fresh spicy, aromatic, wine, floral\n",
      "Best Free Lander: green, aromatic, citrus, woody, earthy\n",
      "Malaga Cooler: citrus, wine, fresh, fresh spicy, conifer\n",
      "Trigger: woody, floral, sweet, powdery, amber\n",
      "Blood Kiss: wine, sweet, woody, cherry, vanilla, aromatic\n",
      "My Torrente: fruity, floral, woody, fresh, sweet, nutty\n",
      "The Black Tower: woody, green, wine, fresh, ozonic, balsamic\n",
      "Marc Jacobs Autumn Splash Ivy: woody, aromatic, powdery, warm spicy, citrus\n",
      "Leatherwood: wine, warm spicy, tuberose, leather, tobacco, animalic\n",
      "V Ete: woody, powdery, floral, rose, fresh\n"
     ]
    }
   ],
   "source": [
    "# List of selected perfumes\n",
    "selected_perfumes = [\"Une Rose\", \"Best Free Lander\", \"Malaga Cooler\", \"Trigger\", \"Blood Kiss\",\n",
    "                     \"My Torrente\", \"The Black Tower\", \"Marc Jacobs Autumn Splash Ivy\",\n",
    "                     \"Leatherwood\", \"V Ete\"]\n",
    "\n",
    "# Filter the DataFrame based on the selected perfumes\n",
    "filtered_df = df[df['perfume'].isin(selected_perfumes)]\n",
    "\n",
    "# Display the associated accords for each perfume\n",
    "for perfume in selected_perfumes:\n",
    "    accords = filtered_df[filtered_df['perfume'] == perfume]['main_accords'].values[0]\n",
    "    print(f\"{perfume}: {accords}\")"
   ]
  },
  {
   "cell_type": "markdown",
   "id": "e6727224-e02e-4ba1-8653-55aecf6d4be2",
   "metadata": {},
   "source": [
    "### Comparison Analysis\n",
    "* None of the randomly recommended perfumes contained the \"wine\" accord.\n",
    "* The recommended perfumes based on Cosine Similarity and Euclidean Distance were the exact same, but in a different order. \n",
    "* Therefore, both methods seem to agree on the similar perfumes for the input accord \"wine\"."
   ]
  },
  {
   "cell_type": "markdown",
   "id": "c03c8743-304f-4293-88de-48a7643a3780",
   "metadata": {},
   "source": [
    "### Which Model Should I Choose? "
   ]
  },
  {
   "cell_type": "markdown",
   "id": "180ccbee-13e7-45f1-bba0-25a45a791980",
   "metadata": {},
   "source": [
    "* The Euclidian Distance model proved to be much less computationally intensive than Cosine Similarity.\n",
    "* The Cosine Similarity Matrix was too large of a file to run through streamlit, even when I utilized a smaller subset of the data.\n",
    "* For the above reasons, I will be using Euclidian Distance for my final recommendation system.\n",
    "* The code for this can be found in \"Recommender_System.py\" "
   ]
  }
 ],
 "metadata": {
  "kernelspec": {
   "display_name": "Python 3 (ipykernel)",
   "language": "python",
   "name": "python3"
  },
  "language_info": {
   "codemirror_mode": {
    "name": "ipython",
    "version": 3
   },
   "file_extension": ".py",
   "mimetype": "text/x-python",
   "name": "python",
   "nbconvert_exporter": "python",
   "pygments_lexer": "ipython3",
   "version": "3.11.7"
  }
 },
 "nbformat": 4,
 "nbformat_minor": 5
}
