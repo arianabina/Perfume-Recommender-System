





import pandas as pd
import numpy as nps





df = pd.read_excel('Data/perfume_database.xlsx', usecols=['brand', 'perfume', 'launch_year', 'main_accords', 'notes'])





df








#Not all the perfumes have top, middle, and base notes categorized, so, I am dropping that component. 
#All notes will still be accounted for in a perfume -- just not categorized by top/middle/base.

items_to_remove = [
    '[', ']', '"', '{', '}',
    'middle: ', 'top: ', 'base: '
]
def remove_items(text):
    for item in items_to_remove:
        text = text.replace(item, "")
    return text


df2 = pd.read_csv('small_cosine_sim_matrix.csv')
df2.columns[2]





# string type 
df['notes'] = df['notes'].astype(str)

# lowercase
df['notes'] = df['notes'].str.lower()

# remove qoutes and brackets
df['notes'] = df['notes'].apply(remove_items)





# string type 
df['main_accords'] = df['main_accords'].astype(str)

# lowercase
df['main_accords'] = df['main_accords'].str.lower()

# remove qoutes and brackets
df['main_accords'] = df['main_accords'].apply(remove_items)


df.head()





df.isna().sum()





# Fill NaN values in 'launch_year' column with 0
df['launch_year'].fillna(0, inplace=True)


# Convert 'launch_year' column to integers
df['launch_year'] = df['launch_year'].astype(int)


df





df.isna().sum()


# Drop rows with missing values in the 'perfume' column
df.dropna(subset=['perfume'], inplace=True)


df.shape


df





df['main_accords'].value_counts()


df['notes'].value_counts()





# Drop rows where 'main_accords' or 'notes' column contains "nan"
df_filtered = df[(df['main_accords'].str.lower() != 'nan') & (df['notes'].str.lower() != 'nan')]

# Reset index
df_filtered.reset_index(drop=True, inplace=True)





df_filtered.shape


df_filtered





df_filtered[df_filtered.duplicated()]


# Remove duplicate rows
df_filtered.drop_duplicates(inplace=True)





df_filtered


df_filtered.shape





# Save the DataFrame to a CSV file in the current directory
df_filtered.to_csv('clean_perfume_data.csv', index=False)





# Sample 5,000 random rows
fivek_subset_df = df.sample(n=5000, random_state=1)

# Save the subset to a new file
fivek_subset_df.to_csv('fivek_subset_data.csv', index=False)
