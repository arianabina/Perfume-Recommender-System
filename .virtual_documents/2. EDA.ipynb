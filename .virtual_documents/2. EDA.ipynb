





import pandas as pd
import matplotlib.pyplot as plt
import seaborn as sns
from collections import Counter
import itertools
import numpy as np





# Load the data
df = pd.read_csv('Data/clean_perfume_data.csv')





# Split the combined accord strings into individual accords and flatten the list
accords = df['main_accords'].str.split().explode()

# Find the unique accords
total_unique_accords = accords.nunique()

# Total unique brands
total_unique_brands = df['brand'].nunique()

# Total unique perfumes (the name)
total_unique_perfumes = df['perfume'].nunique()

# Split the combined note strings into individual notes and flatten the list
notes = df['notes'].str.split(',').explode().str.strip()

# Find the unique notes
total_unique_notes = notes.nunique()              

# Print the results
print("Total unique accords:", total_unique_accords)
print("Total unique brands:", total_unique_brands)
print("Total unique perfumes:", total_unique_perfumes)
print("Total unique notes:", total_unique_notes)





df.describe()





# Filter launch dates greater than zero
non_zero_launch_dates = df[df['launch_year'] > 0]['launch_year']

# Find the oldest launch date
oldest_launch_date = non_zero_launch_dates.min()

# Print the oldest launch date
print("Oldest launch date:", oldest_launch_date)





# Filter the DataFrame for the row with the oldest launch date
oldest_launch_perfume = df[df['launch_year'] == oldest_launch_date]['perfume'].iloc[0]

# Print the perfume corresponding to the oldest launch date
print("Perfume corresponding to the oldest launch date:", oldest_launch_perfume)





# Get the top 20 most frequent brands
top_brands = df['brand'].value_counts().head(20)

# Plot the top 20 brands
plt.figure(figsize=(12, 8))
sns.barplot(x=top_brands.values, y=top_brands.index, palette='viridis')
plt.title('Brands That Produce The Most Perfume (Top 20)')
plt.xlabel('Perfume Count')
plt.ylabel('Brand')
plt.show()





# Get the counts of each unique brand
brand_counts = df['brand'].value_counts()

# Get the least prevalent brands
least_prevalent_brands = brand_counts.tail(20)

# Plot the least prevalent brands
plt.figure(figsize=(12, 8))
sns.barplot(x=least_prevalent_brands.values, y=least_prevalent_brands.index, palette='viridis')
plt.title('Brands That Released Only 1 Perfume (Top 20)')
plt.xlabel('Count')
plt.ylabel('Brand')
plt.show()








# Filter the DataFrame to include only perfumes with single-word notes
single_word_notes = df[df['notes'].str.count(' ') == 0]['notes']

# top 15 Single notes
top_single_word_notes = single_word_notes.value_counts().head(10)

# Plotting
plt.figure(figsize=(12, 8))  
top_single_word_notes.plot(kind='bar', color=plt.cm.viridis(top_single_word_notes.values / max(top_single_word_notes.values)))
plt.title('Prevalent Single Notes')
plt.xlabel('Note')
plt.ylabel('Frequency')
plt.xticks(rotation=60)  
plt.tight_layout()  
plt.show()

# Save the plot as an image
plt.savefig('Images/prevalent_single_notes.jpg')





from collections import Counter
import numpy as np

# Create a list to store pairs of adjacent words in each note
pairs = []

# Iterate through each note and extract pairs of adjacent words
for note in df['notes']:
    note_list = note.split(', ')
    sorted_note_list = sorted(note_list)  # Sort the list alphabetically
    for i in range(len(sorted_note_list) - 1):
        pairs.append((sorted_note_list[i], sorted_note_list[i + 1]))

# Count the frequency of each pair of adjacent words
pair_counts = Counter(pairs)

# Get the top 15 pairs of adjacent words
top_pairs = pair_counts.most_common(10)

# Extract the pair combinations and their frequencies
pair_combinations = [pair[0][0] + ', ' + pair[0][1] for pair in top_pairs]
pair_frequencies = [pair[1] for pair in top_pairs]

# Plotting
plt.figure(figsize=(12, 8))
plt.bar(pair_combinations, pair_frequencies, color=plt.cm.viridis(np.array(pair_frequencies) / max(pair_frequencies)))
plt.title('Prevalent Two-Note Combinations')
plt.xlabel('Notes')
plt.ylabel('Frequency')
plt.xticks(rotation=60)
plt.tight_layout()
plt.show()





# Create a list to store triplets of adjacent words in each note
triplets = []

# Iterate through each note and extract triplets of adjacent words
for note in df['notes']:
    note_list = note.split(', ')
    sorted_note_list = sorted(note_list)  # Sort the list alphabetically
    for triplet in itertools.combinations(sorted_note_list, 3):  
        sorted_triplet = tuple(sorted(triplet))  
        triplets.append(sorted_triplet)

# Count the frequency of each triplet of adjacent words
triplet_counts = Counter(triplets)

# Get the top 15 triplets of adjacent words
top_triplets = triplet_counts.most_common(10) 

# Extract the triplet combinations and their frequencies
triplet_combinations = [', '.join(triplet) for triplet, _ in top_triplets]
triplet_frequencies = [count for _, count in top_triplets]

# Plotting
plt.figure(figsize=(12, 8))  # Adjust figure size if needed
plt.bar(triplet_combinations, triplet_frequencies, color=plt.cm.viridis(np.array(triplet_frequencies) / max(triplet_frequencies)))
plt.title('Prevalent Three-Note Combinations')
plt.xlabel('Note Combination')
plt.ylabel('Frequency')
plt.xticks(rotation=45)  # Rotate x-axis labels for better readability
plt.subplots_adjust(bottom=0.3)  # Adjust the bottom margin
plt.tight_layout()
plt.show()





# Count the number of notes for each perfume
note_counts_per_perfume = df['notes'].str.split(', ').apply(len)

# Plotting
plt.figure(figsize=(10, 6))
plt.hist(note_counts_per_perfume, bins=range(1, note_counts_per_perfume.max() + 1), color='skyblue', edgecolor='black')
plt.title('Distribution of Number of Notes per Perfume')
plt.xlabel('Number of Notes')
plt.ylabel('Frequency')
plt.xticks(range(1, note_counts_per_perfume.max() + 1))
plt.grid(axis='y', linestyle='--', alpha=0.7)
plt.tight_layout()
plt.show()





# Plotting
plt.figure(figsize=(8, 6))
plt.boxplot(note_counts_per_perfume, vert=False)
plt.title('Distribution of Number of Notes per Perfume')
plt.xlabel('Number of Notes')
plt.yticks([])
plt.grid(axis='x', linestyle='--', alpha=0.7)
plt.tight_layout()
plt.show()





# Count the number of notes for each perfume
perfume_note_counts = df['notes'].str.split(', ').apply(len)

# Find the index of the perfume with the most notes
max_notes_index = perfume_note_counts.idxmax()

# Get the name of the perfume with the most notes
perfume_with_most_notes = df.loc[max_notes_index, 'perfume']

# Print the result
print(f"The perfume with the most notes is '{perfume_with_most_notes}' with {perfume_note_counts[max_notes_index]} notes.")





# Flatten the list of notes
all_notes = [note.strip() for sublist in df['notes'].str.split(',') for note in sublist]

# Count the frequency of each note
note_counts = Counter(all_notes)

# Sort notes by frequency in ascending order
sorted_notes = sorted(note_counts.items(), key=lambda x: x[1])

# Print the rare or unusual notes
print("Rare or Unusual Notes:")
for note, count in sorted_notes:
    if count <= 1:  # Adjust the threshold as needed
        print(f"{note}: {count} occurrence")





import matplotlib.pyplot as plt

# Filter out launch years equal to zero and within the desired range
valid_launch_years = df[(df['launch_year'] > 1900) & (df['launch_year'] <= 2017)]['launch_year']

# Create a histogram with adjusted x-axis limits
plt.figure(figsize=(10, 6))  # Adjust the figure size as needed
plt.hist(valid_launch_years, bins=30, color='skyblue', edgecolor='black')
plt.title('Number of Perfumes Released (1900-2017)')
plt.xlabel('Launch Year')
plt.ylabel('Frequency')
plt.xlim(1900, 2017)  # Adjust the x-axis limits to visualize the desired range
plt.grid(True)
plt.show()









# Split the 'main_accords' column by comma and create a list of all accords
all_accords = df['main_accords'].str.split(', ').tolist()

# Flatten the list of lists into a single list
flat_accords = [accord for sublist in all_accords for accord in sublist]

# Get unique accords
unique_accords = set(flat_accords)

# Count the total number of unique fragrance accords
total_accords = len(unique_accords)

# Print the total number of accords
print("Total number of fragrance accords:", total_accords)





# Collect unique fragrance accords from the 'main_accords' column
fragrance_accords = df['main_accords'].str.split(', ', expand=True).stack().unique()

# Print the list of all fragrance accords
print("All fragrance accords present in the dataset:")
print(fragrance_accords)





# Split the 'main_accords' column by comma and create a list of all accords
all_accords = df['main_accords'].str.split(', ').tolist()

# Flatten the list of lists into a single list
flat_accords = [accord for sublist in all_accords for accord in sublist]

# Count the occurrences of each accord
accord_counts = Counter(flat_accords)

# Get the top 10 most frequent accords
top_accords = dict(accord_counts.most_common(10))

# Plot the histogram for top 10 most used accords
plt.figure(figsize=(10, 6))
plt.bar(top_accords.keys(), top_accords.values(), color='skyblue')
plt.title('Top 10 Accords')
plt.xlabel('Accords')
plt.ylabel('Frequency')
plt.xticks(rotation=45)  # Rotate x-axis labels for better visibility
plt.show()

# Save the plot as an image
plt.savefig('top_accords.png')





# Get the 10 least used accords
least_used_accords = accord_counts.most_common()[:-11:-1]

# Extract accords and their corresponding frequencies
accords, frequencies = zip(*least_used_accords)

# Plot the histogram for the 10 least used accords
plt.figure(figsize=(10, 6))
plt.bar(accords, frequencies, color='skyblue')
plt.title('10 Least Used Accords')
plt.xlabel('Accords')
plt.ylabel('Frequency')
plt.xticks(rotation=45) 
plt.show()

# Save the plot as an image
plt.savefig('least_used_accords.png')
