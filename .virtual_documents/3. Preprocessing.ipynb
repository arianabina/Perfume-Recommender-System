





import pandas as pd
from sklearn.feature_extraction.text import TfidfVectorizer
from sklearn.metrics.pairwise import cosine_similarity





# Load the data
df = pd.read_csv('fivek_subset_data.csv')





# Vectorize the notes column
vectorizer = TfidfVectorizer()
tfidf_matrix = vectorizer.fit_transform(df['main_accords'].values.astype('U'))





# Convert sparse matrix to dense matrix
dense_matrix = tfidf_matrix.toarray()

# Convert dense matrix to DataFrame
columns = vectorizer.get_feature_names_out()
vectorized_df = pd.DataFrame(dense_matrix, columns=columns)

# Concatenate DataFrames
result_df = pd.concat([df, vectorized_df], axis=1)

# Save to CSV
result_df.to_csv('fivek_vect_accords.csv', index=False)





cosine_sim = cosine_similarity(tfidf_matrix, tfidf_matrix)





# Convert the cosine similarity matrix to a DataFrame
cosine_sim_df = pd.DataFrame(cosine_sim, index=df.index, columns=df.index)

# Save to CSV
cosine_sim_df.to_csv('fivek_cosine_accords.csv')
