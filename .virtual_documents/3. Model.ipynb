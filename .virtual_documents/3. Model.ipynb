


import pandas as pd
import streamlit as st
from sklearn.feature_extraction.text import TfidfVectorizer
from sklearn.metrics.pairwise import cosine_similarity
!pip install scikit-learn


# Load the data
df = pd.read_csv('clean_perfume_data.csv')


# Vectorize the notes column
vectorizer = TfidfVectorizer()
tfidf_matrix = vectorizer.fit_transform(df['notes'].values.astype('U'))


# Compute the cosine similarity matrix
cosine_sim = cosine_similarity(tfidf_matrix, tfidf_matrix)


# Function to recommend perfumes based on user input
def recommend_perfumes(perfume_name, cosine_sim=cosine_sim, df=df):
    # Convert user input to lowercase
    perfume_name = perfume_name.lower()
    
    # Find indices of matching perfumes
    matching_indices = df[df['perfume'].str.lower() == perfume_name].index
    if len(matching_indices) == 0:
        return "Perfume not found in the dataset. Please enter another perfume name."
    else:
        idx = matching_indices[0]
        sim_scores = list(enumerate(cosine_sim[idx]))
        sim_scores = sorted(sim_scores, key=lambda x: x[1], reverse=True)
        
        # Exclude user input perfume from recommended list
        recommended_indices = [i[0] for i in sim_scores if i[0] != idx]
        recommended_indices = recommended_indices[:10]  # Top 10 similar perfumes
        
        recommendations = df.iloc[recommended_indices][['brand', 'perfume', 'notes']]
        return recommendations


# simulate Streamlit app behavior
def main(perfume_name):
    recommendations = recommend_perfumes(perfume_name, cosine_sim, df)
    print("Recommended Perfumes:")
    print(recommendations)

# Simulate Streamlit user input and button click
perfume_name = 'hareem al sultan'  
main(perfume_name)


# Streamlit app
def main():
    st.title('Fragrance Recommender System')
    st.sidebar.title('User Input')

    # User input
    perfume_name = st.sidebar.text_input('Enter a perfume name')  
    if st.sidebar.button('Get Recommendations'):
        recommendations = recommend_perfumes(perfume_name)
        st.subheader('Recommended Perfumes')
        st.write(recommendations)

if __name__ == '__main__':
    main()
