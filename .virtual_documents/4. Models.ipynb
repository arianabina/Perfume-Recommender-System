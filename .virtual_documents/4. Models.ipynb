





import pandas as pd
import numpy as np
import random
from sklearn.metrics.pairwise import cosine_similarity
from sklearn.feature_extraction.text import TfidfVectorizer
from sklearn.metrics.pairwise import euclidean_distances
from sklearn.metrics import accuracy_score, precision_score, recall_score, f1_score





df = pd.read_csv('fivek_subset_data.csv')





# Function to generate random recommendations
def random_recommender(df, num_recommendations=5):
    # Shuffle the DataFrame randomly and select the first num_recommendations rows
    random_recs = df.sample(n=num_recommendations, random_state=42)  
    return random_recs








# Function to recommend based on cosine similarity

def cosine_recommender(df, accord, num_recommendations=5):
    filtered_df = df[df['main_accords'].str.contains(accord, case=False, na=False)]
    if filtered_df.empty:
        return pd.DataFrame()
    vectorizer = TfidfVectorizer()
    tfidf_matrix = vectorizer.fit_transform(filtered_df['main_accords'])
    similarities = cosine_similarity(tfidf_matrix)
    similar_indices = similarities.argsort(axis=1)[:, ::-1][:, 1:]
    cosine_recs = pd.DataFrame(columns=filtered_df.columns)
    for indices in similar_indices:
        similar_perfumes = filtered_df.iloc[indices[:num_recommendations]]
        cosine_recs = pd.concat([cosine_recs, similar_perfumes])
    return cosine_recs





# Function to recommend based on euclidean distance

def euclidean_recommender(df, accord, num_recommendations=5):
    filtered_df = df[df['main_accords'].str.contains(accord, case=False, na=False)]
    if filtered_df.empty:
        return pd.DataFrame()
    main_accords_list = filtered_df['main_accords'].str.split(', ')
    main_accords_array = main_accords_list.apply(lambda x: [1 if accord in x else 0])
    main_accords_matrix = np.vstack(main_accords_array)
    distances = euclidean_distances(main_accords_matrix)
    similar_indices = distances.argsort(axis=1)[:, :num_recommendations]
    euclidean_recs = pd.DataFrame(columns=filtered_df.columns)  
    for indices in similar_indices:
        similar_perfumes = filtered_df.iloc[indices]
        euclidean_recs = pd.concat([euclidean_recs, similar_perfumes])
    return euclidean_recs





# Function to compare the output of the baseline, euclidian, and cosine models

def compare_recommendations(df):
    # Prompt the user for their preferred fragrance accord
    accord = input("Enter your preferred fragrance accord: ")

    # Convert the input to lowercase for consistency
    accord = accord.lower()

    # Get recommendations based on Euclidean Distance
    euclidean_recs = euclidean_recommender(df, accord).drop_duplicates().head(5)

    # Get recommendations based on Cosine Similarity
    cosine_recs = cosine_recommender(df, accord).drop_duplicates().head(5)

    # Get random recommendations
    random_recs = random_recommender(df, 5).drop_duplicates().head(5)

    # Create a DataFrame for comparison
    comparison_df = pd.DataFrame({
        "Euclidean Recs": euclidean_recs["perfume"].tolist(),
        "Cosine Recs": cosine_recs["perfume"].tolist(),
        "Random Recs": random_recs["perfume"].tolist()
    })

    return comparison_df

# Load your DataFrame here
df = pd.read_csv('fivek_subset_data.csv')

# Call the comparison function
comparison_result = compare_recommendations(df)
print(comparison_result)





# List of selected perfumes
selected_perfumes = ["Une Rose", "Best Free Lander", "Malaga Cooler", "Trigger", "Blood Kiss",
                     "My Torrente", "The Black Tower", "Marc Jacobs Autumn Splash Ivy",
                     "Leatherwood", "V Ete"]

# Filter the DataFrame based on the selected perfumes
filtered_df = df[df['perfume'].isin(selected_perfumes)]

# Display the associated accords for each perfume
for perfume in selected_perfumes:
    accords = filtered_df[filtered_df['perfume'] == perfume]['main_accords'].values[0]
    print(f"{perfume}: {accords}")









