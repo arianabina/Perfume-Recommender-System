{
 "cells": [
  {
   "cell_type": "markdown",
   "id": "dd5644ac-90bb-4097-bd97-f71c1d2ae1c1",
   "metadata": {},
   "source": [
    "# Part 1: Importing & Cleaning"
   ]
  },
  {
   "cell_type": "code",
   "execution_count": 6,
   "id": "a15a5815-2c57-4c6a-b12f-66b2c8d205a4",
   "metadata": {},
   "outputs": [],
   "source": [
    "import pandas as pd\n",
    "import numpy as np"
   ]
  },
  {
   "cell_type": "markdown",
   "id": "23155096-1ba1-41aa-82da-aab20d06db13",
   "metadata": {},
   "source": [
    "### Read Excel File Into DataFrame"
   ]
  },
  {
   "cell_type": "code",
   "execution_count": 15,
   "id": "79aab981-f3dd-49cc-858d-f21a2ef540f6",
   "metadata": {},
   "outputs": [],
   "source": [
    "df = pd.read_excel('/Users/aribina/Documents/Projects/Project 5/perfume_database.xlsx', usecols=['brand', 'perfume', 'notes'])"
   ]
  },
  {
   "cell_type": "markdown",
   "id": "f1fff450-5413-414c-8f2d-087b815b3d43",
   "metadata": {},
   "source": [
    "### Preview The DataFrame"
   ]
  },
  {
   "cell_type": "code",
   "execution_count": 10,
   "id": "35a904ba-5fca-4961-93cb-f405491e8a32",
   "metadata": {},
   "outputs": [
    {
     "data": {
      "text/html": [
       "<div>\n",
       "<style scoped>\n",
       "    .dataframe tbody tr th:only-of-type {\n",
       "        vertical-align: middle;\n",
       "    }\n",
       "\n",
       "    .dataframe tbody tr th {\n",
       "        vertical-align: top;\n",
       "    }\n",
       "\n",
       "    .dataframe thead th {\n",
       "        text-align: right;\n",
       "    }\n",
       "</style>\n",
       "<table border=\"1\" class=\"dataframe\">\n",
       "  <thead>\n",
       "    <tr style=\"text-align: right;\">\n",
       "      <th></th>\n",
       "      <th>brand</th>\n",
       "      <th>perfume</th>\n",
       "      <th>notes</th>\n",
       "    </tr>\n",
       "  </thead>\n",
       "  <tbody>\n",
       "    <tr>\n",
       "      <th>0</th>\n",
       "      <td>18 21 Man Made</td>\n",
       "      <td>Sweet Tobacco Spirits</td>\n",
       "      <td>[\"Citruses\", \"Saffron\", \"Tonka Bean\", \"Vanilla...</td>\n",
       "    </tr>\n",
       "    <tr>\n",
       "      <th>1</th>\n",
       "      <td>40 Notes Perfume</td>\n",
       "      <td>Cashmere Musk</td>\n",
       "      <td>[\"Sandalwood\", \"Cedar\", \"White Musk\", \"Cashmer...</td>\n",
       "    </tr>\n",
       "    <tr>\n",
       "      <th>2</th>\n",
       "      <td>40 Notes Perfume</td>\n",
       "      <td>Exotic Ylang Ylang</td>\n",
       "      <td>[\"Ylang-Ylang\", \"Gardenia\", \"Musk\"]</td>\n",
       "    </tr>\n",
       "    <tr>\n",
       "      <th>3</th>\n",
       "      <td>40 Notes Perfume</td>\n",
       "      <td>Exquisite Amber</td>\n",
       "      <td>[\"Labdanum\", \"Styrax\", \"Benzoin\", \"Vanilla\", \"...</td>\n",
       "    </tr>\n",
       "    <tr>\n",
       "      <th>4</th>\n",
       "      <td>40 Notes Perfume</td>\n",
       "      <td>Oudwood Veil</td>\n",
       "      <td>[\"Kephalis\", \"Agarwood (Oud)\"]</td>\n",
       "    </tr>\n",
       "    <tr>\n",
       "      <th>...</th>\n",
       "      <td>...</td>\n",
       "      <td>...</td>\n",
       "      <td>...</td>\n",
       "    </tr>\n",
       "    <tr>\n",
       "      <th>37921</th>\n",
       "      <td>Urban Rituelle</td>\n",
       "      <td>Lemongrass Blend</td>\n",
       "      <td>[\"Lemongrass\", \"Myrtle\", \"Grapefruit\", \"Eucaly...</td>\n",
       "    </tr>\n",
       "    <tr>\n",
       "      <th>37922</th>\n",
       "      <td>Urban Rituelle</td>\n",
       "      <td>Peach Blossom</td>\n",
       "      <td>[\"Peach\", \"Honey\", \"Sweet Pea\", \"Mimosa\"]</td>\n",
       "    </tr>\n",
       "    <tr>\n",
       "      <th>37923</th>\n",
       "      <td>Urban Rituelle</td>\n",
       "      <td>Pomegranate</td>\n",
       "      <td>[\"Pomegranate\", \"Citruses\", \"Red Berries\"]</td>\n",
       "    </tr>\n",
       "    <tr>\n",
       "      <th>37924</th>\n",
       "      <td>Urban Rituelle</td>\n",
       "      <td>Vanilla</td>\n",
       "      <td>[\"Vanilla\", \"Caramel\", \"Milk\"]</td>\n",
       "    </tr>\n",
       "    <tr>\n",
       "      <th>37925</th>\n",
       "      <td>Urban Rituelle</td>\n",
       "      <td>Vanilla Blend</td>\n",
       "      <td>[\"Vanilla\", \"Lavender\", \"Geranium\"]</td>\n",
       "    </tr>\n",
       "  </tbody>\n",
       "</table>\n",
       "<p>37926 rows × 3 columns</p>\n",
       "</div>"
      ],
      "text/plain": [
       "                  brand                perfume  \\\n",
       "0        18 21 Man Made  Sweet Tobacco Spirits   \n",
       "1      40 Notes Perfume          Cashmere Musk   \n",
       "2      40 Notes Perfume     Exotic Ylang Ylang   \n",
       "3      40 Notes Perfume        Exquisite Amber   \n",
       "4      40 Notes Perfume           Oudwood Veil   \n",
       "...                 ...                    ...   \n",
       "37921    Urban Rituelle       Lemongrass Blend   \n",
       "37922    Urban Rituelle          Peach Blossom   \n",
       "37923    Urban Rituelle            Pomegranate   \n",
       "37924    Urban Rituelle                Vanilla   \n",
       "37925    Urban Rituelle          Vanilla Blend   \n",
       "\n",
       "                                                   notes  \n",
       "0      [\"Citruses\", \"Saffron\", \"Tonka Bean\", \"Vanilla...  \n",
       "1      [\"Sandalwood\", \"Cedar\", \"White Musk\", \"Cashmer...  \n",
       "2                    [\"Ylang-Ylang\", \"Gardenia\", \"Musk\"]  \n",
       "3      [\"Labdanum\", \"Styrax\", \"Benzoin\", \"Vanilla\", \"...  \n",
       "4                         [\"Kephalis\", \"Agarwood (Oud)\"]  \n",
       "...                                                  ...  \n",
       "37921  [\"Lemongrass\", \"Myrtle\", \"Grapefruit\", \"Eucaly...  \n",
       "37922          [\"Peach\", \"Honey\", \"Sweet Pea\", \"Mimosa\"]  \n",
       "37923         [\"Pomegranate\", \"Citruses\", \"Red Berries\"]  \n",
       "37924                     [\"Vanilla\", \"Caramel\", \"Milk\"]  \n",
       "37925                [\"Vanilla\", \"Lavender\", \"Geranium\"]  \n",
       "\n",
       "[37926 rows x 3 columns]"
      ]
     },
     "execution_count": 10,
     "metadata": {},
     "output_type": "execute_result"
    }
   ],
   "source": [
    "df"
   ]
  },
  {
   "cell_type": "markdown",
   "id": "20511e0e-fef3-45e9-aa89-ab9ea1e2631b",
   "metadata": {},
   "source": [
    "### Cleaning The Data"
   ]
  },
  {
   "cell_type": "code",
   "execution_count": 16,
   "id": "51f1fa4e-67b2-4865-803c-d244d5c8eb34",
   "metadata": {},
   "outputs": [],
   "source": [
    "corpus = pd.DataFrame(df['notes'])"
   ]
  },
  {
   "cell_type": "code",
   "execution_count": 46,
   "id": "31cf9b9a-8408-4d8c-a77c-816219272bc9",
   "metadata": {},
   "outputs": [],
   "source": [
    "#Not all the perfumes have top, middle, and base notes categorized; So, I am dropping that component. \n",
    "#All notes will still be accounted for in a perfume -- just not categorized by top/middle/base.\n",
    "\n",
    "items_to_remove = [\n",
    "    '[', ']', '\"', '{', '}',\n",
    "    'middle: ', 'top: ', 'base: ', 'null'\n",
    "]\n",
    "def remove_items(text):\n",
    "    for item in items_to_remove:\n",
    "        text = text.replace(item, \"\")\n",
    "    return text"
   ]
  },
  {
   "cell_type": "code",
   "execution_count": 18,
   "id": "35775163-1367-425e-8e84-e82bdb827a6e",
   "metadata": {},
   "outputs": [],
   "source": [
    "# Cleaning up the text\n",
    "corpus['notes'] = corpus['notes'].astype(str)\n",
    "corpus['notes'] = corpus['notes'].str.lower()\n",
    "corpus['notes'] = corpus['notes'].apply(remove_items)"
   ]
  },
  {
   "cell_type": "code",
   "execution_count": 19,
   "id": "9558114b-617b-4e3d-9343-2d9b73996f54",
   "metadata": {},
   "outputs": [
    {
     "data": {
      "text/html": [
       "<div>\n",
       "<style scoped>\n",
       "    .dataframe tbody tr th:only-of-type {\n",
       "        vertical-align: middle;\n",
       "    }\n",
       "\n",
       "    .dataframe tbody tr th {\n",
       "        vertical-align: top;\n",
       "    }\n",
       "\n",
       "    .dataframe thead th {\n",
       "        text-align: right;\n",
       "    }\n",
       "</style>\n",
       "<table border=\"1\" class=\"dataframe\">\n",
       "  <thead>\n",
       "    <tr style=\"text-align: right;\">\n",
       "      <th></th>\n",
       "      <th>brand</th>\n",
       "      <th>perfume</th>\n",
       "      <th>notes</th>\n",
       "    </tr>\n",
       "  </thead>\n",
       "  <tbody>\n",
       "    <tr>\n",
       "      <th>0</th>\n",
       "      <td>18 21 Man Made</td>\n",
       "      <td>Sweet Tobacco Spirits</td>\n",
       "      <td>citruses, saffron, tonka bean, vanilla, exotic...</td>\n",
       "    </tr>\n",
       "    <tr>\n",
       "      <th>1</th>\n",
       "      <td>40 Notes Perfume</td>\n",
       "      <td>Cashmere Musk</td>\n",
       "      <td>sandalwood, cedar, white musk, cashmere wood</td>\n",
       "    </tr>\n",
       "    <tr>\n",
       "      <th>2</th>\n",
       "      <td>40 Notes Perfume</td>\n",
       "      <td>Exotic Ylang Ylang</td>\n",
       "      <td>ylang-ylang, gardenia, musk</td>\n",
       "    </tr>\n",
       "    <tr>\n",
       "      <th>3</th>\n",
       "      <td>40 Notes Perfume</td>\n",
       "      <td>Exquisite Amber</td>\n",
       "      <td>labdanum, styrax, benzoin, vanilla, musk</td>\n",
       "    </tr>\n",
       "    <tr>\n",
       "      <th>4</th>\n",
       "      <td>40 Notes Perfume</td>\n",
       "      <td>Oudwood Veil</td>\n",
       "      <td>kephalis, agarwood (oud)</td>\n",
       "    </tr>\n",
       "  </tbody>\n",
       "</table>\n",
       "</div>"
      ],
      "text/plain": [
       "              brand                perfume  \\\n",
       "0    18 21 Man Made  Sweet Tobacco Spirits   \n",
       "1  40 Notes Perfume          Cashmere Musk   \n",
       "2  40 Notes Perfume     Exotic Ylang Ylang   \n",
       "3  40 Notes Perfume        Exquisite Amber   \n",
       "4  40 Notes Perfume           Oudwood Veil   \n",
       "\n",
       "                                               notes  \n",
       "0  citruses, saffron, tonka bean, vanilla, exotic...  \n",
       "1       sandalwood, cedar, white musk, cashmere wood  \n",
       "2                        ylang-ylang, gardenia, musk  \n",
       "3           labdanum, styrax, benzoin, vanilla, musk  \n",
       "4                           kephalis, agarwood (oud)  "
      ]
     },
     "execution_count": 19,
     "metadata": {},
     "output_type": "execute_result"
    }
   ],
   "source": [
    "df['notes'] = corpus['notes']\n",
    "df.head()"
   ]
  },
  {
   "cell_type": "markdown",
   "id": "5161e49d-2761-4e3e-b4be-bf0d300f5ec5",
   "metadata": {},
   "source": [
    "### Checking For Null Values"
   ]
  },
  {
   "cell_type": "code",
   "execution_count": 23,
   "id": "ba75471f-2fb3-4bd9-9a4b-b3cb20ac8ab1",
   "metadata": {},
   "outputs": [
    {
     "data": {
      "text/plain": [
       "brand      0\n",
       "perfume    3\n",
       "notes      0\n",
       "dtype: int64"
      ]
     },
     "execution_count": 23,
     "metadata": {},
     "output_type": "execute_result"
    }
   ],
   "source": [
    "df.isna().sum()"
   ]
  },
  {
   "cell_type": "markdown",
   "id": "87f1baf1-2ffa-419d-a263-d484cdaf43c7",
   "metadata": {},
   "source": [
    "### Dropping 3 Rows with Nulls in The Perfume Column"
   ]
  },
  {
   "cell_type": "code",
   "execution_count": 27,
   "id": "69b5f7cf-d26e-44d9-90f8-1bc46302debd",
   "metadata": {},
   "outputs": [],
   "source": [
    "df = df.dropna(subset=['perfume'])"
   ]
  },
  {
   "cell_type": "code",
   "execution_count": 29,
   "id": "23aa024e-93a7-4862-bffa-5d95860ecfc0",
   "metadata": {},
   "outputs": [
    {
     "data": {
      "text/html": [
       "<div>\n",
       "<style scoped>\n",
       "    .dataframe tbody tr th:only-of-type {\n",
       "        vertical-align: middle;\n",
       "    }\n",
       "\n",
       "    .dataframe tbody tr th {\n",
       "        vertical-align: top;\n",
       "    }\n",
       "\n",
       "    .dataframe thead th {\n",
       "        text-align: right;\n",
       "    }\n",
       "</style>\n",
       "<table border=\"1\" class=\"dataframe\">\n",
       "  <thead>\n",
       "    <tr style=\"text-align: right;\">\n",
       "      <th></th>\n",
       "      <th>brand</th>\n",
       "      <th>perfume</th>\n",
       "      <th>notes</th>\n",
       "    </tr>\n",
       "  </thead>\n",
       "  <tbody>\n",
       "    <tr>\n",
       "      <th>count</th>\n",
       "      <td>37923</td>\n",
       "      <td>37923</td>\n",
       "      <td>37923</td>\n",
       "    </tr>\n",
       "    <tr>\n",
       "      <th>unique</th>\n",
       "      <td>2571</td>\n",
       "      <td>33962</td>\n",
       "      <td>35331</td>\n",
       "    </tr>\n",
       "    <tr>\n",
       "      <th>top</th>\n",
       "      <td>Avon</td>\n",
       "      <td>Patchouli</td>\n",
       "      <td>nan</td>\n",
       "    </tr>\n",
       "    <tr>\n",
       "      <th>freq</th>\n",
       "      <td>644</td>\n",
       "      <td>39</td>\n",
       "      <td>957</td>\n",
       "    </tr>\n",
       "  </tbody>\n",
       "</table>\n",
       "</div>"
      ],
      "text/plain": [
       "        brand    perfume  notes\n",
       "count   37923      37923  37923\n",
       "unique   2571      33962  35331\n",
       "top      Avon  Patchouli    nan\n",
       "freq      644         39    957"
      ]
     },
     "execution_count": 29,
     "metadata": {},
     "output_type": "execute_result"
    }
   ],
   "source": [
    "df.describe()"
   ]
  },
  {
   "cell_type": "markdown",
   "id": "19e97244-8c63-48d7-a981-2d69c9e3674f",
   "metadata": {},
   "source": [
    "### It seems like we have some suspicious \"nan\" values in the notes column. Lets investigate more."
   ]
  },
  {
   "cell_type": "code",
   "execution_count": 34,
   "id": "6e239187-b802-4f1c-8dc5-7ae808e94b03",
   "metadata": {},
   "outputs": [
    {
     "name": "stdout",
     "output_type": "stream",
     "text": [
      "notes\n",
      "nan                                                                                   957\n",
      "floral notes                                                                           66\n",
      "rose                                                                                   59\n",
      "agarwood (oud)                                                                         58\n",
      "lavender                                                                               55\n",
      "                                                                                     ... \n",
      "green notes, floral notes, spicy notes                                                  1\n",
      "oriental flower notes, spicy notes, green accord                                        1\n",
      "bergamot, woodsy notes, oak moss, jasmine                                               1\n",
      "lavender, sage, basil, vetiver, sandalwood, tonka bean, orange, lemon, green notes      1\n",
      "vanilla, lavender, geranium                                                             1\n",
      "Name: count, Length: 35331, dtype: int64\n"
     ]
    }
   ],
   "source": [
    "# Convert 'notes' column to a Series\n",
    "notes_series = df['notes']\n",
    "\n",
    "# Get value counts for the 'notes' column\n",
    "notes_value_counts = notes_series.value_counts()\n",
    "\n",
    "# Print the value counts\n",
    "print(notes_value_counts)"
   ]
  },
  {
   "cell_type": "markdown",
   "id": "8f428b9c-a764-4202-8384-60fc947dda22",
   "metadata": {},
   "source": [
    "### Dropping 957 Rows Containing \"nan\" In The Notes Column, because \"nan\" is not a note!"
   ]
  },
  {
   "cell_type": "code",
   "execution_count": 35,
   "id": "73d980db-91fe-419d-a3c8-afc6e9429d12",
   "metadata": {},
   "outputs": [],
   "source": [
    "# Drop rows with \"nan\" in the 'notes' column\n",
    "df = df.drop(df[df['notes'] == 'nan'].index)\n",
    "\n",
    "# Reset index if needed\n",
    "df.reset_index(drop=True, inplace=True)"
   ]
  },
  {
   "cell_type": "markdown",
   "id": "64fa3c87-fe28-48af-b394-ed359497c06d",
   "metadata": {},
   "source": [
    "### Let's drop any duplicates of the same perfume"
   ]
  },
  {
   "cell_type": "code",
   "execution_count": 42,
   "id": "4a6db5b2-eae0-4b0e-9793-34dcd64677bf",
   "metadata": {},
   "outputs": [],
   "source": [
    "# Drop duplicates within the 'perfume' column \n",
    "df.drop_duplicates(subset='perfume', inplace=True)"
   ]
  },
  {
   "cell_type": "markdown",
   "id": "f779c4e8-07a6-4c48-bc1d-77db7da069c5",
   "metadata": {},
   "source": [
    "#### Let's check out our clean dataframe"
   ]
  },
  {
   "cell_type": "code",
   "execution_count": 43,
   "id": "c2450d06-c191-4a9b-97b7-aca3e9092073",
   "metadata": {},
   "outputs": [
    {
     "data": {
      "text/html": [
       "<div>\n",
       "<style scoped>\n",
       "    .dataframe tbody tr th:only-of-type {\n",
       "        vertical-align: middle;\n",
       "    }\n",
       "\n",
       "    .dataframe tbody tr th {\n",
       "        vertical-align: top;\n",
       "    }\n",
       "\n",
       "    .dataframe thead th {\n",
       "        text-align: right;\n",
       "    }\n",
       "</style>\n",
       "<table border=\"1\" class=\"dataframe\">\n",
       "  <thead>\n",
       "    <tr style=\"text-align: right;\">\n",
       "      <th></th>\n",
       "      <th>brand</th>\n",
       "      <th>perfume</th>\n",
       "      <th>notes</th>\n",
       "    </tr>\n",
       "  </thead>\n",
       "  <tbody>\n",
       "    <tr>\n",
       "      <th>0</th>\n",
       "      <td>18 21 Man Made</td>\n",
       "      <td>Sweet Tobacco Spirits</td>\n",
       "      <td>citruses, saffron, tonka bean, vanilla, exotic...</td>\n",
       "    </tr>\n",
       "    <tr>\n",
       "      <th>1</th>\n",
       "      <td>40 Notes Perfume</td>\n",
       "      <td>Cashmere Musk</td>\n",
       "      <td>sandalwood, cedar, white musk, cashmere wood</td>\n",
       "    </tr>\n",
       "    <tr>\n",
       "      <th>2</th>\n",
       "      <td>40 Notes Perfume</td>\n",
       "      <td>Exotic Ylang Ylang</td>\n",
       "      <td>ylang-ylang, gardenia, musk</td>\n",
       "    </tr>\n",
       "    <tr>\n",
       "      <th>3</th>\n",
       "      <td>40 Notes Perfume</td>\n",
       "      <td>Exquisite Amber</td>\n",
       "      <td>labdanum, styrax, benzoin, vanilla, musk</td>\n",
       "    </tr>\n",
       "    <tr>\n",
       "      <th>4</th>\n",
       "      <td>40 Notes Perfume</td>\n",
       "      <td>Oudwood Veil</td>\n",
       "      <td>kephalis, agarwood (oud)</td>\n",
       "    </tr>\n",
       "    <tr>\n",
       "      <th>...</th>\n",
       "      <td>...</td>\n",
       "      <td>...</td>\n",
       "      <td>...</td>\n",
       "    </tr>\n",
       "    <tr>\n",
       "      <th>36957</th>\n",
       "      <td>Urban Rituelle</td>\n",
       "      <td>Caramella</td>\n",
       "      <td>caramel, coconut milk, cotton candy</td>\n",
       "    </tr>\n",
       "    <tr>\n",
       "      <th>36958</th>\n",
       "      <td>Urban Rituelle</td>\n",
       "      <td>Coconut Lotus</td>\n",
       "      <td>lotus, musk, coconut</td>\n",
       "    </tr>\n",
       "    <tr>\n",
       "      <th>36960</th>\n",
       "      <td>Urban Rituelle</td>\n",
       "      <td>Island Blossom</td>\n",
       "      <td>frangipani, wild berries, jasmine</td>\n",
       "    </tr>\n",
       "    <tr>\n",
       "      <th>36961</th>\n",
       "      <td>Urban Rituelle</td>\n",
       "      <td>Lemongrass Blend</td>\n",
       "      <td>lemongrass, myrtle, grapefruit, eucalyptus</td>\n",
       "    </tr>\n",
       "    <tr>\n",
       "      <th>36965</th>\n",
       "      <td>Urban Rituelle</td>\n",
       "      <td>Vanilla Blend</td>\n",
       "      <td>vanilla, lavender, geranium</td>\n",
       "    </tr>\n",
       "  </tbody>\n",
       "</table>\n",
       "<p>33157 rows × 3 columns</p>\n",
       "</div>"
      ],
      "text/plain": [
       "                  brand                perfume  \\\n",
       "0        18 21 Man Made  Sweet Tobacco Spirits   \n",
       "1      40 Notes Perfume          Cashmere Musk   \n",
       "2      40 Notes Perfume     Exotic Ylang Ylang   \n",
       "3      40 Notes Perfume        Exquisite Amber   \n",
       "4      40 Notes Perfume           Oudwood Veil   \n",
       "...                 ...                    ...   \n",
       "36957    Urban Rituelle              Caramella   \n",
       "36958    Urban Rituelle          Coconut Lotus   \n",
       "36960    Urban Rituelle         Island Blossom   \n",
       "36961    Urban Rituelle       Lemongrass Blend   \n",
       "36965    Urban Rituelle          Vanilla Blend   \n",
       "\n",
       "                                                   notes  \n",
       "0      citruses, saffron, tonka bean, vanilla, exotic...  \n",
       "1           sandalwood, cedar, white musk, cashmere wood  \n",
       "2                            ylang-ylang, gardenia, musk  \n",
       "3               labdanum, styrax, benzoin, vanilla, musk  \n",
       "4                               kephalis, agarwood (oud)  \n",
       "...                                                  ...  \n",
       "36957                caramel, coconut milk, cotton candy  \n",
       "36958                               lotus, musk, coconut  \n",
       "36960                  frangipani, wild berries, jasmine  \n",
       "36961         lemongrass, myrtle, grapefruit, eucalyptus  \n",
       "36965                        vanilla, lavender, geranium  \n",
       "\n",
       "[33157 rows x 3 columns]"
      ]
     },
     "execution_count": 43,
     "metadata": {},
     "output_type": "execute_result"
    }
   ],
   "source": [
    "df"
   ]
  },
  {
   "cell_type": "markdown",
   "id": "446b154d-0007-40ce-8814-af7e0d1e4d8d",
   "metadata": {},
   "source": [
    "#### We started out with 37,926 rows and now we have 33,157 rows after cleaning. Thus, a total of 4,769 rows were dropped. "
   ]
  },
  {
   "cell_type": "code",
   "execution_count": 45,
   "id": "61a8c926-1935-4c5a-9a97-cb901a262b67",
   "metadata": {},
   "outputs": [],
   "source": [
    "# Save the DataFrame to a CSV file in the current directory\n",
    "df.to_csv('clean_perfume_data.csv', index=False)"
   ]
  }
 ],
 "metadata": {
  "kernelspec": {
   "display_name": "Python 3 (ipykernel)",
   "language": "python",
   "name": "python3"
  },
  "language_info": {
   "codemirror_mode": {
    "name": "ipython",
    "version": 3
   },
   "file_extension": ".py",
   "mimetype": "text/x-python",
   "name": "python",
   "nbconvert_exporter": "python",
   "pygments_lexer": "ipython3",
   "version": "3.11.7"
  }
 },
 "nbformat": 4,
 "nbformat_minor": 5
}
